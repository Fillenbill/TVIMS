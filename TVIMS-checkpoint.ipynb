{
 "cells": [
  {
   "cell_type": "code",
   "execution_count": 1,
   "id": "7d0a6118-1751-4783-922f-a7a57df7a93d",
   "metadata": {
    "tags": []
   },
   "outputs": [
    {
     "data": {
      "image/png": "[encoded data removed]",
      "text/plain": [
       "<Figure size 640x480 with 1 Axes>"
      ]
     },
     "metadata": {},
     "output_type": "display_data"
    }
   ],
   "source": [
    "import csv\n",
    "import numpy as np\n",
    "import matplotlib.pyplot as plt\n",
    "\n",
    "# Считываем данные из файла\n",
    "data = []\n",
    "with open('var_16_lognorm.csv', newline='') as csvfile:\n",
    "    reader = csv.reader(csvfile, delimiter=',')\n",
    "    for row in reader:\n",
    "        data.append(float(row[0]) + 2.118733)\n",
    "\n",
    "# Ограничиваем данные по оси X до 180\n",
    "data = [x for x in data if x <= 180]\n",
    "\n",
    "# Функция расчета интегральной кривой\n",
    "def calculate_cumulative(data):\n",
    "    x, y = np.unique(sorted(data)), np.arange(1, len(np.unique(sorted(data))) + 1)\n",
    "    return x, y/y[-1]\n",
    "\n",
    "# Функция построения графика\n",
    "def plot_cumulative(x, y, label):\n",
    "    plt.plot(x, y, label=label)\n",
    "\n",
    "# Разбиваем данные на 50 интервалов и строим гистограмму\n",
    "plt.hist(data, bins=50, density=True)\n",
    "\n",
    "# Строим интегральные кривые\n",
    "np.random.seed(42)\n",
    "sample_sizes = [200]\n",
    "for sample_size in sample_sizes:\n",
    "    sample = np.random.choice(data, sample_size)\n",
    "    x, y = calculate_cumulative(sample)\n",
    "    plot_cumulative(x, y, label=f'n={sample_size}')\n",
    "\n",
    "# Оформляем график\n",
    "plt.title('Lognormal distribution')\n",
    "plt.xlabel('Value')\n",
    "plt.ylabel('Cumulative probability')\n",
    "plt.legend()\n",
    "plt.show()"
   ]
  },
  {
   "cell_type": "code",
   "execution_count": 2,
   "id": "5a702753-f0da-4fd5-b860-4ee360fc70b3",
   "metadata": {
    "tags": []
   },
   "outputs": [
    {
     "ename": "NameError",
     "evalue": "name 'read_csv_file' is not defined",
     "output_type": "error",
     "traceback": [
      "\u001b[1;31m---------------------------------------------------------------------------\u001b[0m",
      "\u001b[1;31mNameError\u001b[0m                                 Traceback (most recent call last)",
      "Cell \u001b[1;32mIn[2], line 29\u001b[0m\n\u001b[0;32m     27\u001b[0m \u001b[38;5;28;01mif\u001b[39;00m \u001b[38;5;18m__name__\u001b[39m \u001b[38;5;241m==\u001b[39m \u001b[38;5;124m\"\u001b[39m\u001b[38;5;124m__main__\u001b[39m\u001b[38;5;124m\"\u001b[39m:\n\u001b[0;32m     28\u001b[0m     filename \u001b[38;5;241m=\u001b[39m \u001b[38;5;124m\"\u001b[39m\u001b[38;5;124mvar_16_lognorm.csv\u001b[39m\u001b[38;5;124m\"\u001b[39m\n\u001b[1;32m---> 29\u001b[0m     column \u001b[38;5;241m=\u001b[39m \u001b[43mread_csv_file\u001b[49m(filename)\n\u001b[0;32m     30\u001b[0m     column\u001b[38;5;241m.\u001b[39msort()\n\u001b[0;32m     31\u001b[0m     x_ecdf, y_ecdf \u001b[38;5;241m=\u001b[39m empirical_cdf(column)\n",
      "\u001b[1;31mNameError\u001b[0m: name 'read_csv_file' is not defined"
     ]
    }
   ],
   "source": [
    "import csv\n",
    "import numpy as np\n",
    "import matplotlib.pyplot as plt\n",
    "\n",
    "def empirical_cdf(data):\n",
    "    \"\"\"\n",
    "    Функция для построения эмпирической функции распределения.\n",
    "\n",
    "    Параметры:\n",
    "    - data: массив наблюдаемых значений случайной величины.\n",
    "\n",
    "    Возвращает:\n",
    "    - x: массив отсортированных значений.\n",
    "    - y: массив значений эмпирической функции распределения.\n",
    "    \"\"\"\n",
    "    # Отсортировать наблюдаемые значения в порядке возрастания.\n",
    "    sorted_data = np.sort(data)\n",
    "\n",
    "    # Создать массив относительных частот.\n",
    "    n = len(sorted_data)\n",
    "    y = np.arange(1, n+1) / n\n",
    "\n",
    "    # Вернуть отсортированные значения и соответствующие значения эмпирической функции распределения.\n",
    "    return sorted_data, y\n",
    "\n",
    "\n",
    "if __name__ == \"__main__\":\n",
    "    filename = \"var_16_lognorm.csv\"\n",
    "    column = read_csv_file(filename)\n",
    "    column.sort()\n",
    "    x_ecdf, y_ecdf = empirical_cdf(column)\n",
    "\n",
    "     # Выводим значения на график\n",
    "    plt.plot(x_ecdf, y_ecdf)\n",
    "    plt.show()"
   ]
  },
  {
   "cell_type": "code",
   "execution_count": 3,
   "id": "fd9506c1-7e2a-4868-9a53-cba49f0da7c1",
   "metadata": {
    "tags": []
   },
   "outputs": [
    {
     "name": "stdout",
     "output_type": "stream",
     "text": [
      "Column: [-2.118733, -2.118408, -2.116372, -2.116114, -2.115895, -2.114842, -2.11356, -2.112854, -2.112662, -2.112381, -2.112102, -2.111881, -2.111182, -2.109836, -2.109779, -2.107821, -2.10775, -2.106194, -2.104532, -2.101371, -2.101251, -2.09781, -2.094885, -2.094478, -2.094226, -2.094166, -2.094015, -2.091491, -2.089973, -2.0886, -2.086106, -2.083796, -2.08176, -2.078094, -2.076904, -2.074659, -2.074121, -2.068692, -2.067678, -2.065187, -2.06283, -2.06164, -2.056782, -2.054657, -2.054383, -2.052648, -2.050821, -2.04804, -2.04795, -2.044436, -2.041355, -2.040253, -2.039176, -2.038734, -2.035237, -2.034851, -2.033251, -2.031376, -2.027827, -2.02678, -2.025548, -2.025388, -2.021719, -2.016055, -2.014266, -2.013543, -2.010161, -2.005753, -2.004451, -2.002147, -2.001336, -1.997167, -1.988526, -1.987398, -1.980862, -1.980399, -1.972529, -1.967966, -1.967384, -1.95689, -1.936049, -1.933511, -1.930901, -1.930493, -1.928578, -1.923086, -1.918947, -1.913696, -1.911287, -1.907319, -1.9055, -1.902984, -1.879764, -1.871168, -1.869175, -1.867477, -1.867037, -1.865694, -1.862021, -1.861347, -1.840453, -1.825034, -1.82283, -1.82146, -1.812216, -1.776703, -1.768758, -1.766862, -1.750716, -1.744968, -1.737205, -1.736561, -1.727981, -1.726405, -1.711398, -1.708489, -1.70685, -1.684554, -1.683157, -1.673804, -1.668461, -1.646966, -1.624539, -1.611541, -1.605577, -1.59707, -1.58893, -1.558817, -1.546591, -1.518828, -1.518396, -1.515807, -1.504811, -1.501884, -1.49272, -1.480776, -1.467204, -1.45997, -1.439317, -1.43247, -1.400941, -1.388162, -1.387476, -1.357748, -1.355545, -1.346591, -1.302366, -1.275885, -1.220715, -1.215454, -1.193671, -1.184316, -1.136701, -1.085586, -1.077577, -1.06172, -0.935477, -0.915987, -0.907423, -0.896501, -0.851208, -0.837912, -0.738492, -0.726588, -0.680451, -0.625128, -0.623863, -0.612557, -0.59654, -0.587165, -0.587164, -0.586178, -0.578469, -0.527686, -0.511763, -0.510091, -0.480336, -0.433218, -0.412556, -0.283959, -0.142748, -0.124653, -0.088979, -0.061209, 0.005784, 0.006025, 0.177827, 0.204723, 0.242963, 0.342924, 0.456351, 0.543867, 0.590827, 0.591646, 0.691907, 0.755794, 0.827221, 0.862442, 1.018486, 1.053726, 1.117379, 1.141226, 1.157246, 1.290093, 1.319879, 1.388998, 1.551043, 1.56304, 1.569803, 1.61276, 1.787179, 1.97415, 2.004656, 2.052797, 2.057294, 2.08022, 2.084263, 2.216459, 2.244369, 2.286691, 2.400673, 2.485328, 2.541639, 2.725463, 2.734267, 2.742759, 2.773475, 2.842646, 2.891585, 2.914034, 2.914561, 3.079744, 3.088937, 3.258424, 3.324231, 3.351308, 3.469762, 4.06221, 4.065384, 4.137245, 4.227738, 4.425348, 4.463289, 4.88276, 4.943577, 5.0572, 5.167701, 5.245941, 5.248955, 5.456236, 5.765886, 5.785228, 7.266282, 7.461348, 7.514797, 8.064586, 8.070451, 8.29055, 8.291643, 9.136203, 9.645894, 9.685448, 9.792432, 10.401503, 10.46465, 11.455885, 12.399809, 12.419863, 14.844352, 15.455703, 16.407423, 16.563308, 17.927744, 19.293607, 22.042304, 31.451583, 31.669934, 33.086055, 37.636697, 37.967646, 46.299022, 46.697063, 48.928089, 50.399304, 52.483963, 54.017456, 66.219627, 69.54577, 71.49044, 96.765296, 107.138641, 111.302772, 137.587277, 152.90719, 195.53501, 401.734512, 639.268547, 838.151425, 846.729659, 1218.043116]\n",
      "\n",
      "Sample Sum: 5556.894926999999\n",
      "Sample Mean: 18.522983089999997\n",
      "Sample Median: -1.1889935\n",
      "Sample Mode: 0\n",
      "Sample Range: 1220.161849\n",
      "Biased Sample Variance: 11746.515646129397\n",
      "Unbiased Sample Variance: 11785.801651634845\n",
      "Sample 3-th Moment: 11160811.127758382\n",
      "Sample 3-th Central Moment: 10501714.343503214\n"
     ]
    }
   ],
   "source": [
    "import csv\n",
    "import numpy as np\n",
    "import matplotlib.pyplot as plt\n",
    "\n",
    "def empirical_cdf(data):\n",
    "    \n",
    "       return 1\n",
    "    \n",
    "def read_csv_file(filename):\n",
    "    with open(filename, 'r') as f:\n",
    "        reader = csv.reader(f)\n",
    "        column = []\n",
    "        for row in reader:\n",
    "            column.append(float(row[0]))\n",
    "        return column\n",
    "\n",
    "def sample_sum(sample):\n",
    "    return sum(sample)\n",
    "\n",
    "def sample_mean(sample):\n",
    "    return sum(sample) / len(sample)\n",
    "\n",
    "def sample_median(sample):\n",
    "    n = len(sample)\n",
    "    if n % 2 == 0:\n",
    "        sample.sort()\n",
    "        return (sample[n//2] + sample[n//2+1]) / 2\n",
    "    else:\n",
    "        return sample[n//2]\n",
    "\n",
    "def sample_mode(sample):\n",
    "    freq_dict = {}\n",
    "    for x in sample:\n",
    "        freq_dict[x] = freq_dict.get(x, 0) + 1\n",
    "    max_freq = max(freq_dict.values())\n",
    "    if max_freq == 1:\n",
    "        return 0\n",
    "    else:\n",
    "        most_common_num = [k for k, v in freq_dict.items() if v == max_freq]\n",
    "        return most_common_num[0]\n",
    "\n",
    "def sample_range(sample):\n",
    "    return max(sample) - min(sample)\n",
    "\n",
    "def sample_variance(sample, biased=True):\n",
    "    n = len(sample)\n",
    "    mean = sample_mean(sample)\n",
    "    variance = sum((x - mean)**2 for x in sample) / (n if biased else n-1)\n",
    "    return variance\n",
    "\n",
    "def sample_moment(sample, k):\n",
    "    n = len(sample)\n",
    "    mean = sample_mean(sample)\n",
    "    moment = sum(x**k for x in sample) / n\n",
    "    return moment\n",
    "\n",
    "def sample_central_moment(sample, k):\n",
    "    n = len(sample)\n",
    "    mean = sample_mean(sample)\n",
    "    cent_moment = sum((x - mean)**k for x in sample) / n\n",
    "    return cent_moment\n",
    "\n",
    "\n",
    "if __name__ == \"__main__\":\n",
    "    filename = \"var_16_lognorm.csv\"\n",
    "    column = read_csv_file(filename)\n",
    "    column.sort()\n",
    "    print(\"Column:\", column)\n",
    "    print(\"\\nSample Sum:\", sample_sum(column))\n",
    "    print(\"Sample Mean:\", sample_mean(column))\n",
    "    print(\"Sample Median:\", sample_median(column))\n",
    "    print(\"Sample Mode:\", sample_mode(column))\n",
    "    print(\"Sample Range:\", sample_range(column))\n",
    "    print(\"Biased Sample Variance:\", sample_variance(column, biased=True))\n",
    "    print(\"Unbiased Sample Variance:\", sample_variance(column, biased=False))\n",
    "    k = 3\n",
    "    print(f\"Sample {k}-th Moment:\", sample_moment(column, k))\n",
    "    print(f\"Sample {k}-th Central Moment:\", sample_central_moment(column, k))\n",
    "   \n",
    "\n",
    "     # Выводим значения на график\n",
    "     # plt.plot(x_ecdf, y_ecdf)\n",
    "    plt.show()"
   ]
  },
  {
   "cell_type": "code",
   "execution_count": 4,
   "id": "289606ad-e324-4ee0-8e59-3a1324dc1437",
   "metadata": {
    "tags": []
   },
   "outputs": [
    {
     "name": "stdout",
     "output_type": "stream",
     "text": [
      "Column: [-2.118733, -2.118408, -2.116372, -2.116114, -2.115895, -2.114842, -2.11356, -2.112854, -2.112662, -2.112381, -2.112102, -2.111881, -2.111182, -2.109836, -2.109779, -2.107821, -2.10775, -2.106194, -2.104532, -2.101371, -2.101251, -2.09781, -2.094885, -2.094478, -2.094226, -2.094166, -2.094015, -2.091491, -2.089973, -2.0886, -2.086106, -2.083796, -2.08176, -2.078094, -2.076904, -2.074659, -2.074121, -2.068692, -2.067678, -2.065187, -2.06283, -2.06164, -2.056782, -2.054657, -2.054383, -2.052648, -2.050821, -2.04804, -2.04795, -2.044436, -2.041355, -2.040253, -2.039176, -2.038734, -2.035237, -2.034851, -2.033251, -2.031376, -2.027827, -2.02678, -2.025548, -2.025388, -2.021719, -2.016055, -2.014266, -2.013543, -2.010161, -2.005753, -2.004451, -2.002147, -2.001336, -1.997167, -1.988526, -1.987398, -1.980862, -1.980399, -1.972529, -1.967966, -1.967384, -1.95689, -1.936049, -1.933511, -1.930901, -1.930493, -1.928578, -1.923086, -1.918947, -1.913696, -1.911287, -1.907319, -1.9055, -1.902984, -1.879764, -1.871168, -1.869175, -1.867477, -1.867037, -1.865694, -1.862021, -1.861347, -1.840453, -1.825034, -1.82283, -1.82146, -1.812216, -1.776703, -1.768758, -1.766862, -1.750716, -1.744968, -1.737205, -1.736561, -1.727981, -1.726405, -1.711398, -1.708489, -1.70685, -1.684554, -1.683157, -1.673804, -1.668461, -1.646966, -1.624539, -1.611541, -1.605577, -1.59707, -1.58893, -1.558817, -1.546591, -1.518828, -1.518396, -1.515807, -1.504811, -1.501884, -1.49272, -1.480776, -1.467204, -1.45997, -1.439317, -1.43247, -1.400941, -1.388162, -1.387476, -1.357748, -1.355545, -1.346591, -1.302366, -1.275885, -1.220715, -1.215454, -1.193671, -1.184316, -1.136701, -1.085586, -1.077577, -1.06172, -0.935477, -0.915987, -0.907423, -0.896501, -0.851208, -0.837912, -0.738492, -0.726588, -0.680451, -0.625128, -0.623863, -0.612557, -0.59654, -0.587165, -0.587164, -0.586178, -0.578469, -0.527686, -0.511763, -0.510091, -0.480336, -0.433218, -0.412556, -0.283959, -0.142748, -0.124653, -0.088979, -0.061209, 0.005784, 0.006025, 0.177827, 0.204723, 0.242963, 0.342924, 0.456351, 0.543867, 0.590827, 0.591646, 0.691907, 0.755794, 0.827221, 0.862442, 1.018486, 1.053726, 1.117379, 1.141226, 1.157246, 1.290093, 1.319879, 1.388998, 1.551043, 1.56304, 1.569803, 1.61276, 1.787179, 1.97415, 2.004656, 2.052797, 2.057294, 2.08022, 2.084263, 2.216459, 2.244369, 2.286691, 2.400673, 2.485328, 2.541639, 2.725463, 2.734267, 2.742759, 2.773475, 2.842646, 2.891585, 2.914034, 2.914561, 3.079744, 3.088937, 3.258424, 3.324231, 3.351308, 3.469762, 4.06221, 4.065384, 4.137245, 4.227738, 4.425348, 4.463289, 4.88276, 4.943577, 5.0572, 5.167701, 5.245941, 5.248955, 5.456236, 5.765886, 5.785228, 7.266282, 7.461348, 7.514797, 8.064586, 8.070451, 8.29055, 8.291643, 9.136203, 9.645894, 9.685448, 9.792432, 10.401503, 10.46465, 11.455885, 12.399809, 12.419863, 14.844352, 15.455703, 16.407423, 16.563308, 17.927744, 19.293607, 22.042304, 31.451583, 31.669934, 33.086055, 37.636697, 37.967646, 46.299022, 46.697063, 48.928089, 50.399304, 52.483963, 54.017456, 66.219627, 69.54577, 71.49044, 96.765296, 107.138641, 111.302772, 137.587277, 152.90719, 195.53501, 401.734512, 639.268547, 838.151425, 846.729659, 1218.043116]\n"
     ]
    }
   ],
   "source": [
    "import csv\n",
    "import numpy as np\n",
    "import matplotlib.pyplot as plt\n",
    "\n",
    "    \n",
    "def read_csv_file(filename):\n",
    "    with open(filename, 'r') as f:\n",
    "        reader = csv.reader(f)\n",
    "        column = []\n",
    "        for row in reader:\n",
    "            column.append(float(row[0]))\n",
    "        return column\n",
    "\n",
    "\n",
    "\n",
    "\n",
    "if __name__ == \"__main__\":\n",
    "    filename = \"var_16_lognorm.csv\"\n",
    "    column = read_csv_file(filename)\n",
    "    column.sort()\n",
    "    print(\"Column:\", column)\n",
    "\n",
    "   \n",
    "\n",
    "     # Выводим значения на график\n",
    "     # plt.plot(x_ecdf, y_ecdf)\n",
    "    plt.show()"
   ]
  },
  {
   "cell_type": "code",
   "execution_count": 5,
   "id": "4fccc737-bb70-460d-9fed-31d1645d9054",
   "metadata": {
    "tags": []
   },
   "outputs": [
    {
     "name": "stdout",
     "output_type": "stream",
     "text": [
      "Column: [-2.118733, -2.118408, -2.116372, -2.116114, -2.115895, -2.114842, -2.11356, -2.112854, -2.112662, -2.112381, -2.112102, -2.111881, -2.111182, -2.109836, -2.109779, -2.107821, -2.10775, -2.106194, -2.104532, -2.101371, -2.101251, -2.09781, -2.094885, -2.094478, -2.094226, -2.094166, -2.094015, -2.091491, -2.089973, -2.0886, -2.086106, -2.083796, -2.08176, -2.078094, -2.076904, -2.074659, -2.074121, -2.068692, -2.067678, -2.065187, -2.06283, -2.06164, -2.056782, -2.054657, -2.054383, -2.052648, -2.050821, -2.04804, -2.04795, -2.044436, -2.041355, -2.040253, -2.039176, -2.038734, -2.035237, -2.034851, -2.033251, -2.031376, -2.027827, -2.02678, -2.025548, -2.025388, -2.021719, -2.016055, -2.014266, -2.013543, -2.010161, -2.005753, -2.004451, -2.002147, -2.001336, -1.997167, -1.988526, -1.987398, -1.980862, -1.980399, -1.972529, -1.967966, -1.967384, -1.95689, -1.936049, -1.933511, -1.930901, -1.930493, -1.928578, -1.923086, -1.918947, -1.913696, -1.911287, -1.907319, -1.9055, -1.902984, -1.879764, -1.871168, -1.869175, -1.867477, -1.867037, -1.865694, -1.862021, -1.861347, -1.840453, -1.825034, -1.82283, -1.82146, -1.812216, -1.776703, -1.768758, -1.766862, -1.750716, -1.744968, -1.737205, -1.736561, -1.727981, -1.726405, -1.711398, -1.708489, -1.70685, -1.684554, -1.683157, -1.673804, -1.668461, -1.646966, -1.624539, -1.611541, -1.605577, -1.59707, -1.58893, -1.558817, -1.546591, -1.518828, -1.518396, -1.515807, -1.504811, -1.501884, -1.49272, -1.480776, -1.467204, -1.45997, -1.439317, -1.43247, -1.400941, -1.388162, -1.387476, -1.357748, -1.355545, -1.346591, -1.302366, -1.275885, -1.220715, -1.215454, -1.193671, -1.184316, -1.136701, -1.085586, -1.077577, -1.06172, -0.935477, -0.915987, -0.907423, -0.896501, -0.851208, -0.837912, -0.738492, -0.726588, -0.680451, -0.625128, -0.623863, -0.612557, -0.59654, -0.587165, -0.587164, -0.586178, -0.578469, -0.527686, -0.511763, -0.510091, -0.480336, -0.433218, -0.412556, -0.283959, -0.142748, -0.124653, -0.088979, -0.061209, 0.005784, 0.006025, 0.177827, 0.204723, 0.242963, 0.342924, 0.456351, 0.543867, 0.590827, 0.591646, 0.691907, 0.755794, 0.827221, 0.862442, 1.018486, 1.053726, 1.117379, 1.141226, 1.157246, 1.290093, 1.319879, 1.388998, 1.551043, 1.56304, 1.569803, 1.61276, 1.787179, 1.97415, 2.004656, 2.052797, 2.057294, 2.08022, 2.084263, 2.216459, 2.244369, 2.286691, 2.400673, 2.485328, 2.541639, 2.725463, 2.734267, 2.742759, 2.773475, 2.842646, 2.891585, 2.914034, 2.914561, 3.079744, 3.088937, 3.258424, 3.324231, 3.351308, 3.469762, 4.06221, 4.065384, 4.137245, 4.227738, 4.425348, 4.463289, 4.88276, 4.943577, 5.0572, 5.167701, 5.245941, 5.248955, 5.456236, 5.765886, 5.785228, 7.266282, 7.461348, 7.514797, 8.064586, 8.070451, 8.29055, 8.291643, 9.136203, 9.645894, 9.685448, 9.792432, 10.401503, 10.46465, 11.455885, 12.399809, 12.419863, 14.844352, 15.455703, 16.407423, 16.563308, 17.927744, 19.293607, 22.042304, 31.451583, 31.669934, 33.086055, 37.636697, 37.967646, 46.299022, 46.697063, 48.928089, 50.399304, 52.483963, 54.017456, 66.219627, 69.54577, 71.49044, 96.765296, 107.138641, 111.302772, 137.587277, 152.90719, 195.53501, 401.734512, 639.268547, 838.151425, 846.729659, 1218.043116]\n"
     ]
    }
   ],
   "source": [
    "import csv\n",
    "import numpy as np\n",
    "import matplotlib.pyplot as plt\n",
    "\n",
    "    \n",
    "def read_csv_file(filename):\n",
    "    with open(filename, 'r') as f:\n",
    "        reader = csv.reader(f)\n",
    "        column = []\n",
    "        for row in reader:\n",
    "            column.append(float(row[0]))\n",
    "        return column\n",
    "\n",
    "\n",
    "if __name__ == \"__main__\":\n",
    "    filename = \"var_16_lognorm.csv\"\n",
    "    column = read_csv_file(filename)\n",
    "    column.sort()\n",
    "    #print(\"Column:\", column)\n",
    "\n",
    "\n",
    "     # Выводим значения на график\n",
    "     # plt.plot(x_ecdf, y_ecdf)\n",
    "    plt.show()"
   ]
  },
  {
   "cell_type": "code",
   "execution_count": null,
   "id": "78ebb0fb-117f-42f0-a92b-d7ac0ef02f6a",
   "metadata": {},
   "outputs": [],
   "source": []
  }
 ],
 "metadata": {
  "kernelspec": {
   "display_name": "Python 3 (ipykernel)",
   "language": "python",
   "name": "python3"
  },
  "language_info": {
   "codemirror_mode": {
    "name": "ipython",
    "version": 3
   },
   "file_extension": ".py",
   "mimetype": "text/x-python",
   "name": "python",
   "nbconvert_exporter": "python",
   "pygments_lexer": "ipython3",
   "version": "3.11.2"
  }
 },
 "nbformat": 4,
 "nbformat_minor": 5
}
